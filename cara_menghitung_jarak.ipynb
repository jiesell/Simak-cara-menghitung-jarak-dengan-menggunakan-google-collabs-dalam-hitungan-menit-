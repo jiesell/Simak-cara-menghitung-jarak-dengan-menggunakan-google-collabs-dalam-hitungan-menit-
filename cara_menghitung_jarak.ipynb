{
  "nbformat": 4,
  "nbformat_minor": 0,
  "metadata": {
    "colab": {
      "provenance": []
    },
    "kernelspec": {
      "name": "python3",
      "display_name": "Python 3"
    },
    "language_info": {
      "name": "python"
    }
  },
  "cells": [
    {
      "cell_type": "code",
      "execution_count": null,
      "metadata": {
        "id": "Hf6Og8ZTr4a6"
      },
      "outputs": [],
      "source": [
        "#MENGHITUNG JARAK \n",
        "#secara horizontal dan vertikal;\n",
        "#uji coba nilai sin dan cos \n",
        "print(\"......\")\n",
        "\n",
        "a = 90 \n",
        "b = 0\n",
        "rv = (a/180)*pi\n",
        "rc = (b/180)*pi\n",
        "\n",
        "print(sin(rv))\n",
        "print(cos(rc))\n",
        "from math import sin\n",
        "from math import pi\n",
        "from math import cos\n",
        "\n",
        "print(\"Nama : Lina Marselina\")\n",
        "print(\"NIM : 1207030023 \")\n",
        "print(\"Jurusan : Fisika \")\n",
        "\n",
        "#menghitung jarak horizontal (x)\n",
        "print(\"contoh soal = sebuah bola dilempar dengan kecepatan awal 20 m/s pada sudut 30 di atas tanah. Cari : \")\n",
        "print(\"1. Jarak maksimum bola tersebut!\")\n",
        "print(\"2. Ketinggian maksimum bola tersebut! \")\n",
        "v = 20\n",
        "s =  30\n",
        "sdt = (s/180)*pi\n",
        "n = sin(sdt)\n",
        "g = 9.8\n",
        "# x = v^2sin2a /g\n",
        "\n",
        "jarak = (v**2)* sin(2*n)/g\n",
        "print(\"jawab : \")\n",
        "print(\"jarak = \", jarak,\"m\")\n",
        "\n",
        "#menghitung jarak vertikal (y)\n",
        "o = n**2\n",
        "puncak = (v**2)*o/(2*g)\n",
        "print(\"ketinggian = \", puncak , \"m\")"
      ]
    }
  ]
}